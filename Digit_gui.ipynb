{
  "nbformat": 4,
  "nbformat_minor": 0,
  "metadata": {
    "colab": {
      "name": "digit_gui.ipynb",
      "provenance": [],
      "collapsed_sections": [],
      "toc_visible": true
    },
    "kernelspec": {
      "name": "python3",
      "display_name": "Python 3"
    }
  },
  "cells": [
    {
      "cell_type": "code",
      "metadata": {
        "id": "oy84hlYrvQS_",
        "colab_type": "code",
        "colab": {}
      },
      "source": [
        "#Importing Modules \n",
        "from tkinter import *\n",
        "from PIL import Image\n",
        "import io\n",
        "import numpy as np\n",
        "import matplotlib.pyplot as plt\n",
        "from keras.models import load_model\n",
        "import cv2"
      ],
      "execution_count": null,
      "outputs": []
    },
    {
      "cell_type": "code",
      "metadata": {
        "id": "YFeWARATvct6",
        "colab_type": "code",
        "colab": {}
      },
      "source": [
        "#Building the classes \n",
        "class DigitsClassifier(Frame):\n",
        "    \"\"\"Handwritten Digits Recognizer class\"\"\"\n",
        "def __init__(self, parent):\n",
        "        Frame.__init__(self, parent)\n",
        "        self.parent = parent\n",
        "        self.color = \"black\"\n",
        "        self.brush_size = 10\n",
        "        self.setUI()\n",
        "def set_color(self, new_color):\n",
        "        \"\"\"Additional brush color change\"\"\"\n",
        "        self.color = new_color\n",
        "def set_brush_size(self, new_size):\n",
        "        \"\"\"Changes brush size for testing different lines width\"\"\"\n",
        "        self.brush_size = new_size\n",
        "def draw(self, event):\n",
        "        \"\"\"Method to draw\"\"\"\n",
        "        self.canv.create_oval(event.x - self.brush_size,\n",
        "                              event.y - self.brush_size,\n",
        "                              event.x + self.brush_size,\n",
        "                              event.y + self.brush_size,\n",
        "                              fill=self.color, outline=self.color)"
      ],
      "execution_count": null,
      "outputs": []
    },
    {
      "cell_type": "code",
      "metadata": {
        "id": "zek63eHLvhgs",
        "colab_type": "code",
        "colab": {}
      },
      "source": [
        "# Saving canvas \n",
        "def save(self):\n",
        "        \"\"\"Save the current canvas state as the postscript\n",
        "        uses classify method and shows the result\"\"\"\n",
        "        self.canv.update()\n",
        "        ps = self.canv.postscript(colormode='mono')\n",
        "        img = Image.open(io.BytesIO(ps.encode('utf-8')))\n",
        "        img.save('result.png')\n",
        "        a = DigitsClassifier.classify()\n",
        "        print(a)\n",
        "        self.show_digit(a)"
      ],
      "execution_count": null,
      "outputs": []
    },
    {
      "cell_type": "code",
      "metadata": {
        "id": "QJRc9N7Uvosb",
        "colab_type": "code",
        "colab": {}
      },
      "source": [
        "@staticmethod\n",
        "def classify():\n",
        "      \"\"\"\n",
        "      Process the input digit image and returns the result\n",
        "      :return: digit\n",
        "      \"\"\"\n",
        "      classifier = load_model(\"mnist.h5\")\n",
        "      im = cv2.imread(\"result.png\", 0)\n",
        "      im2 = cv2.resize(im, (28, 28))\n",
        "      im = im2.reshape(28, 28, -1)\n",
        "      im = im.reshape(1, 1, 28, 28)\n",
        "      im = cv2.bitwise_not(im)\n",
        "      plt.imshow(im.reshape(28, 28), cmap='Greys')\n",
        "      result = classifier.predict(im)\n",
        "      a = np.argmax(result)\n",
        "      return a"
      ],
      "execution_count": null,
      "outputs": []
    },
    {
      "cell_type": "code",
      "metadata": {
        "id": "UfRfnadrwAob",
        "colab_type": "code",
        "colab": {}
      },
      "source": [
        "def show_digit(self, digit):\n",
        "        \"\"\"\n",
        "        Show the digit on the canvas\n",
        "        :param digit: int\n",
        "        :return: None\n",
        "        \"\"\"\n",
        "        text_label = Label(self, text=digit)\n",
        "        text_label.grid(row=0, column=5, padx=5, pady=5)"
      ],
      "execution_count": null,
      "outputs": []
    },
    {
      "cell_type": "code",
      "metadata": {
        "id": "mVkgHJDQwEeq",
        "colab_type": "code",
        "colab": {}
      },
      "source": [
        "def setUI(self):\n",
        "        \"\"\"Setup for all UI elements\"\"\"\n",
        "        self.parent.title(\"Drawn Digit Classifier\")\n",
        "        self.pack(fill=BOTH, expand=1)\n",
        "        self.columnconfigure(6,weight=1)\n",
        "        self.rowconfigure(2, weight=1)\n",
        "        self.canv = Canvas(self, bg=\"white\")\n",
        "        self.canv.grid(row=2, column=0, columnspan=7,\n",
        "                       padx=5, pady=5,\n",
        "                       sticky=E + W + S + N)\n",
        "        self.canv.bind(\"<B1-Motion>\",\n",
        "                       self.draw)\n",
        "        color_lab = Label(self, text=\"Color: \")\n",
        "        color_lab.grid(row=0, column=0,\n",
        "                       padx=6)\n",
        "        black_btn = Button(self, text=\"Black\", width=10,\n",
        "                           command=lambda: self.set_color(\"black\"))\n",
        "        black_btn.grid(row=0, column=2)\n",
        "        white_btn = Button(self, text=\"White\", width=10,\n",
        "                           command=lambda: self.set_color(\"white\"))\n",
        "        white_btn.grid(row=0, column=3)\n",
        "        clear_btn = Button(self, text=\"Clear all\", width=10,\n",
        "                           command=lambda: self.canv.delete(\"all\"))\n",
        "        clear_btn.grid(row=0, column=4, sticky=W)\n",
        "        size_lab = Label(self, text=\"Brush size: \")\n",
        "        size_lab.grid(row=1, column=0, padx=5)\n",
        "        five_btn = Button(self, text=\"Seven\", width=10,\n",
        "                          command=lambda: self.set_brush_size(7))\n",
        "        five_btn.grid(row=1, column=2)\n",
        "        seven_btn = Button(self, text=\"Ten\", width=10,\n",
        "                           command=lambda: self.set_brush_size(10))\n",
        "        seven_btn.grid(row=1, column=3)\n",
        "        ten_btn = Button(self, text=\"Twenty\", width=10,\n",
        "                         command=lambda: self.set_brush_size(20))\n",
        "        ten_btn.grid(row=1, column=4)\n",
        "        done_btn = Button(self, text=\"Done\", width=10,\n",
        "                          command=lambda: self.save())\n",
        "        done_btn.grid(row=1, column=5)"
      ],
      "execution_count": null,
      "outputs": []
    },
    {
      "cell_type": "code",
      "metadata": {
        "id": "dJ9WssTOwJAQ",
        "colab_type": "code",
        "colab": {}
      },
      "source": [
        "def main():\n",
        "    root = Tk()\n",
        "    root.geometry(\"400x400\")\n",
        "    root.resizable(0, 0)\n",
        "    app = DigitsClassifier(root)\n",
        "    root.mainloop()\n",
        "if __name__ == '__main__':\n",
        "    main()"
      ],
      "execution_count": null,
      "outputs": []
    }
  ]
}