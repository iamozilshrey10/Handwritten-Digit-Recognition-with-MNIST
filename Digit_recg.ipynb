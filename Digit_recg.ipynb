{
  "nbformat": 4,
  "nbformat_minor": 0,
  "metadata": {
    "colab": {
      "name": "Digit_recg.ipynb",
      "provenance": [],
      "collapsed_sections": [],
      "toc_visible": true
    },
    "kernelspec": {
      "name": "python3",
      "display_name": "Python 3"
    }
  },
  "cells": [
    {
      "cell_type": "code",
      "metadata": {
        "id": "9DGz7Aao8V9n",
        "colab_type": "code",
        "colab": {}
      },
      "source": [
        "#Importing Modules \n",
        "\n",
        "import tensorflow as tf\n",
        "import numpy as np\n",
        "import matplotlib.pyplot as plt"
      ],
      "execution_count": 1,
      "outputs": []
    },
    {
      "cell_type": "code",
      "metadata": {
        "id": "m3XroPQz8vTK",
        "colab_type": "code",
        "colab": {}
      },
      "source": [
        "# Importing Dataset and Normalizing it\n",
        "\n",
        "mnist = tf.keras.datasets.mnist \n",
        "(X_train, y_train), (X_test,y_test) = mnist.load_data()\n",
        "\n",
        "X_train = tf.keras.utils.normalize(X_train, axis=1)\n",
        "X_test = tf.keras.utils.normalize(X_train, axis=1)\n",
        "\n",
        "\n"
      ],
      "execution_count": null,
      "outputs": []
    },
    {
      "cell_type": "code",
      "metadata": {
        "id": "yxB5T5Vd9pCT",
        "colab_type": "code",
        "colab": {}
      },
      "source": [
        "# View the Data\n",
        "\n",
        "def draw(n):\n",
        "  plt.imshow(n,cmap=plt.cm.binary)\n",
        "  plt.show()\n",
        "\n",
        "draw(X_train[0])  "
      ],
      "execution_count": null,
      "outputs": []
    },
    {
      "cell_type": "code",
      "metadata": {
        "id": "lWZp0OW0-BBR",
        "colab_type": "code",
        "colab": {
          "base_uri": "https://localhost:8080/",
          "height": 139
        },
        "outputId": "e95f1853-e88e-4b7e-e2f7-6f77b2e02fbc"
      },
      "source": [
        "# Developing a CNN and Training it \n",
        "\n",
        "model = tf.keras.models.Sequential()\n",
        "model.add(tf.keras.layers.Flatten(input_shape=(28,28))) #Reshapping \n",
        "\n",
        "model.add(tf.keras.layers.Dense(128,activation=tf.nn.relu)) \n",
        "model.add(tf.keras.layers.Dense(128,activation=tf.nn.relu)) \n",
        "model.add(tf.keras.layers.Dense(10,activation=tf.nn.softmax)) \n",
        "  \n",
        "model.compile(optimizer='adam', \n",
        "              loss='sparse_categorical_crossentropy', \n",
        "              metrics=['accuracy'] \n",
        "              ) \n",
        "model.fit(X_train,y_train,epochs=3)\n"
      ],
      "execution_count": 12,
      "outputs": [
        {
          "output_type": "stream",
          "text": [
            "Epoch 1/3\n",
            "1875/1875 [==============================] - 4s 2ms/step - loss: 0.2664 - accuracy: 0.9207\n",
            "Epoch 2/3\n",
            "1875/1875 [==============================] - 4s 2ms/step - loss: 0.1102 - accuracy: 0.9663\n",
            "Epoch 3/3\n",
            "1875/1875 [==============================] - 4s 2ms/step - loss: 0.0762 - accuracy: 0.9759\n"
          ],
          "name": "stdout"
        },
        {
          "output_type": "execute_result",
          "data": {
            "text/plain": [
              "<tensorflow.python.keras.callbacks.History at 0x7f9fae382208>"
            ]
          },
          "metadata": {
            "tags": []
          },
          "execution_count": 12
        }
      ]
    },
    {
      "cell_type": "code",
      "metadata": {
        "id": "SyPL_fq-BmlR",
        "colab_type": "code",
        "colab": {}
      },
      "source": [
        "# Save Model\n",
        "model.save('Digit.h5') \n",
        "\n"
      ],
      "execution_count": 15,
      "outputs": []
    },
    {
      "cell_type": "code",
      "metadata": {
        "id": "xDu9s7mAChBj",
        "colab_type": "code",
        "colab": {}
      },
      "source": [
        "# Load Model and Predicting the Results \n",
        "\n",
        "new_model = tf.keras.models.load_model('Digit.h5')\n",
        "\n",
        "prediction = new_model.predict([X_train])\n",
        "print('Label :', y_test[2])\n",
        "print('Prediction: ', np.argmax(prediction[2]))\n",
        "\n",
        "draw(X_test[2])\n"
      ],
      "execution_count": null,
      "outputs": []
    }
  ]
}