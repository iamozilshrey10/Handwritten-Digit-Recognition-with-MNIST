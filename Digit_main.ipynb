{
  "nbformat": 4,
  "nbformat_minor": 0,
  "metadata": {
    "colab": {
      "name": "Digit_main.ipynb",
      "provenance": [],
      "collapsed_sections": [],
      "toc_visible": true
    },
    "kernelspec": {
      "name": "python3",
      "display_name": "Python 3"
    }
  },
  "cells": [
    {
      "cell_type": "code",
      "metadata": {
        "id": "pDR62Hgh3p7N",
        "colab_type": "code",
        "colab": {}
      },
      "source": [
        "# Importing Modules \n",
        "\n",
        "import keras \n",
        "from keras.datasets import mnist #handwritten digits \n",
        "from keras.models import Sequential \n",
        "from keras.layers import Dropout, Dense, Flatten, Conv2D, MaxPooling2D\n",
        "from keras import backend as K"
      ],
      "execution_count": 2,
      "outputs": []
    },
    {
      "cell_type": "code",
      "metadata": {
        "id": "lcv3c9oB5oSd",
        "colab_type": "code",
        "colab": {}
      },
      "source": [
        "# Spliiting the dataset into Training and Test Sets \n",
        "\n",
        "(X_train,y_train),(X_test,y_test) = mnist.load_data()\n",
        "\n",
        "#print(X_train.shape, y_train.shape)"
      ],
      "execution_count": 3,
      "outputs": []
    },
    {
      "cell_type": "code",
      "metadata": {
        "id": "hNytxTFq6HLp",
        "colab_type": "code",
        "colab": {}
      },
      "source": [
        "#Preprocessing the data \n",
        "\n",
        "X_train = X_train.reshape(X_train.shape[0], 28, 28 ,1)\n",
        "X_test = X_test.reshape(X_test.shape[0], 28, 28, 1)\n",
        "input_shape = (28, 28, 1)\n",
        "#print(X_train.shape)"
      ],
      "execution_count": 4,
      "outputs": []
    },
    {
      "cell_type": "code",
      "metadata": {
        "id": "LifeTAK77udv",
        "colab_type": "code",
        "colab": {
          "base_uri": "https://localhost:8080/",
          "height": 52
        },
        "outputId": "e38ce7f4-9e2d-450f-df6a-de9ab5136cb4"
      },
      "source": [
        "#Converting the class vectors to binary class matrices \n",
        "\n",
        "y_train = keras.utils.to_categorical(y_train, num_classes=10)\n",
        "y_test = keras.utils.to_categorical(y_test, num_classes=10)\n",
        "\n",
        "X_train = X_train.astype('float32')\n",
        "X_test = X_test.astype('float32')\n",
        "X_train /= 255\n",
        "X_test /= 255\n",
        "\n",
        "#print(X_train.shape)\n",
        "print(X_train.shape[0], 'train samples')\n",
        "print(X_test.shape[0], 'test samples')"
      ],
      "execution_count": 9,
      "outputs": [
        {
          "output_type": "stream",
          "text": [
            "60000 train samples\n",
            "10000 test samples\n"
          ],
          "name": "stdout"
        }
      ]
    },
    {
      "cell_type": "code",
      "metadata": {
        "id": "wQ5_L6BA9yPG",
        "colab_type": "code",
        "colab": {}
      },
      "source": [
        "# Creating Model \n",
        "\n",
        "batch_size = 128\n",
        "num_classes = 10\n",
        "epochs = 10 \n",
        "\n",
        "model = Sequential()\n",
        "model.add(Conv2D(32,kernel_size=(3,3),activation='relu',input_shape=input_shape))\n",
        "model.add(MaxPooling2D(pool_size=(2,2)))\n",
        "model.add(Conv2D(64,kernel_size=(3,3),activation='relu'))\n",
        "model.add(MaxPooling2D(pool_size=(2,2)))\n",
        "model.add(Flatten())\n",
        "model.add(Dense(128, activation='relu'))\n",
        "model.add(Dropout(0.3))\n",
        "model.add(Dense(64, activation='relu'))\n",
        "model.add(Dropout(0.5))\n",
        "model.add(Dense(num_classes, activation='softmax'))\n",
        "\n",
        "model.compile(loss=keras.losses.categorical_crossentropy,optimizer=keras.optimizers.Adadelta(),metrics=['accuracy'])"
      ],
      "execution_count": 6,
      "outputs": []
    },
    {
      "cell_type": "code",
      "metadata": {
        "id": "DTvMgcTjAUPE",
        "colab_type": "code",
        "colab": {}
      },
      "source": [
        "#Training the Model \n",
        "\n",
        "hist = model.fit(X_train, y_train, batch_size=batch_size, epochs=epochs, verbose=1, validation_data=(X_test, y_test))\n",
        "print('Model trained Successfully')"
      ],
      "execution_count": null,
      "outputs": []
    },
    {
      "cell_type": "code",
      "metadata": {
        "id": "Kbr9OrHzBePx",
        "colab_type": "code",
        "colab": {}
      },
      "source": [
        "# Printing the Score and saving the model \n",
        "\n",
        "score = model.evaluate(X_test, y_test, verbose=0)\n",
        "print('Test loss :', score[0])\n",
        "print('Test Accuracy :', score[1])\n",
        "\n",
        "model.save('mnist.h5')"
      ],
      "execution_count": null,
      "outputs": []
    }
  ]
}